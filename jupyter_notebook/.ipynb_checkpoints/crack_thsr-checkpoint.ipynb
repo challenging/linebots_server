{
 "cells": [
  {
   "cell_type": "code",
   "execution_count": 219,
   "metadata": {
    "collapsed": false,
    "deletable": true,
    "editable": true
   },
   "outputs": [
    {
     "name": "stdout",
     "output_type": "stream",
     "text": [
      "export webdriver.chrome.driver=lib/common/../../etc/driver/chromedriver_mac64\n"
     ]
    }
   ],
   "source": [
    "# -*- coding: utf-8 -*-\n",
    "\n",
    "import os\n",
    "import time\n",
    "import random\n",
    "\n",
    "from PIL import Image\n",
    "\n",
    "from selenium import webdriver\n",
    "\n",
    "from lib.ocr.utils import get_digest\n",
    "from lib.ocr.cracker import init_model, crack_thsr\n",
    "from lib.common.utils import get_chrome_driver, check_folder\n",
    "\n",
    "from selenium.common.exceptions import NoSuchElementException        \n",
    "from selenium.webdriver.common.keys import Keys\n",
    "\n",
    "url = \"https://irs.thsrc.com.tw/IMINT/\"\n",
    "\n",
    "opener = get_chrome_driver()\n",
    "opener.get(url)"
   ]
  },
  {
   "cell_type": "code",
   "execution_count": 221,
   "metadata": {
    "collapsed": false,
    "deletable": true,
    "editable": true
   },
   "outputs": [],
   "source": [
    "# start_station\n",
    "opener.find_element_by_name(\"selectStartStation\").send_keys(unicode(\"台北\", \"UTF8\"))\n",
    "\n",
    "# end_station\n",
    "opener.find_element_by_name(\"selectDestinationStation\").send_keys(unicode(\"台中\", \"UTF8\"))\n",
    "\n",
    "# preferred seat\n",
    "opener.find_element_by_id(\"seatRadio1\").click()\n",
    "\n",
    "# preferred booking\n",
    "opener.find_element_by_id(\"bookingMethod1\").click()\n",
    "\n",
    "# preferred date\n",
    "input_field = opener.find_element_by_id('toTimeInputField')\n",
    "\n",
    "opener.execute_script(\"arguments[0].value = ''\", input_field)\n",
    "input_field.send_keys('2017/03/01')\n",
    "\n",
    "# preferred time\n",
    "opener.find_element_by_name(\"toTimeTable\").send_keys(\"130P\")\n",
    "\n",
    "# preferred adult amount\n",
    "opener.find_element_by_name(\"ticketPanel:rows:0:ticketAmount\").send_keys(\"2\")\n",
    "\n",
    "# preferred children amount\n",
    "opener.find_element_by_name(\"ticketPanel:rows:1:ticketAmount\").send_keys(\"2\")"
   ]
  },
  {
   "cell_type": "code",
   "execution_count": 222,
   "metadata": {
    "collapsed": false,
    "deletable": true,
    "editable": true
   },
   "outputs": [],
   "source": [
    "# crack the captcha image\n",
    "retry = 5\n",
    "while retry > 0:\n",
    "    try:\n",
    "        img = opener.find_element_by_id(\"BookingS1Form_homeCaptcha_passCode\")\n",
    "        location, size = img.location, img.size\n",
    "\n",
    "        if isinstance(opener, webdriver.Chrome):\n",
    "            location[\"x\"] *= 2\n",
    "            location[\"y\"] *= 2\n",
    "            size[\"width\"] *= 2\n",
    "            size[\"height\"] *= 2\n",
    "        else:\n",
    "            location[\"x\"] += 5\n",
    "\n",
    "        filepath_screenshot = \"/tmp/1.jpg\"\n",
    "        opener.save_screenshot(filepath_screenshot)\n",
    "\n",
    "        im = Image.open(filepath_screenshot)\n",
    "        im = im.crop((location[\"x\"], location[\"y\"], location[\"x\"]+size[\"width\"], location[\"y\"] + size[\"height\"]))\n",
    "\n",
    "        if isinstance(opener, webdriver.Chrome):\n",
    "            im = im.resize((im.size[0]/2, im.size[1]/2), Image.ANTIALIAS)\n",
    "\n",
    "        im.show()\n",
    "\n",
    "        im_filepath = os.path.join(\"tmp\", \"{}.jpg\".format(get_digest(im)))\n",
    "        check_folder(im_filepath)\n",
    "        im.save(im_filepath)\n",
    "\n",
    "        init_model(\"thsr\")\n",
    "        answer = crack_thsr(im_filepath, cropped=2)\n",
    "\n",
    "        submit = opener.find_element_by_name(\"homeCaptcha:securityCode\")\n",
    "        submit.clear()\n",
    "        submit.send_keys(answer)\n",
    "\n",
    "        opener.find_element_by_id(\"SubmitButton\").click()\n",
    "        time.sleep(random.randint(1, 3))\n",
    "\n",
    "        if opener.current_url == \"https://irs.thsrc.com.tw/IMINT/?wicket:interface=:1::\":\n",
    "            retry = -1\n",
    "            break\n",
    "    except NoSuchElementException as nee:\n",
    "        pass\n",
    "    \n",
    "    retry -= 1\n",
    "    time.sleep(random.randint(1, 5))"
   ]
  },
  {
   "cell_type": "code",
   "execution_count": 223,
   "metadata": {
    "collapsed": false,
    "deletable": true,
    "editable": true
   },
   "outputs": [
    {
     "name": "stdout",
     "output_type": "stream",
     "text": [
      "[[u'639', u'12:46', u'13:46', u'1:00', u'https://irs.thsrc.com.tw/IMINT/resources/tw.com.mitac.webapp.thsr.viewer.panel.LightLoadedTrainQueryDataViewPanel/irs_ind_eb2_zh_TW.gif', <selenium.webdriver.remote.webelement.WebElement (session=\"a4f4e891d2d97216344d760a12111b3f\", element=\"0.7386164939581004-18\")>], [u'829', u'13:11', u'14:15', u'1:04', u'https://irs.thsrc.com.tw/IMINT/resources/tw.com.mitac.webapp.thsr.viewer.panel.LightLoadedTrainQueryDataViewPanel/irs_ind_ebH_zh_TW.gif', <selenium.webdriver.remote.webelement.WebElement (session=\"a4f4e891d2d97216344d760a12111b3f\", element=\"0.7386164939581004-20\")>], [u'133', u'13:31', u'14:18', u'0:47', u'https://irs.thsrc.com.tw/IMINT/resources/tw.com.mitac.webapp.thsr.viewer.panel.LightLoadedTrainQueryDataViewPanel/irs_ind_eb2_zh_TW.gif', <selenium.webdriver.remote.webelement.WebElement (session=\"a4f4e891d2d97216344d760a12111b3f\", element=\"0.7386164939581004-22\")>], [u'645', u'13:46', u'14:46', u'1:00', u'https://irs.thsrc.com.tw/IMINT/resources/tw.com.mitac.webapp.thsr.viewer.panel.LightLoadedTrainQueryDataViewPanel/irs_ind_eb2_zh_TW.gif', <selenium.webdriver.remote.webelement.WebElement (session=\"a4f4e891d2d97216344d760a12111b3f\", element=\"0.7386164939581004-24\")>], [u'833', u'14:11', u'15:15', u'1:04', u'https://irs.thsrc.com.tw/IMINT/resources/tw.com.mitac.webapp.thsr.viewer.panel.LightLoadedTrainQueryDataViewPanel/irs_ind_ebH_zh_TW.gif', <selenium.webdriver.remote.webelement.WebElement (session=\"a4f4e891d2d97216344d760a12111b3f\", element=\"0.7386164939581004-26\")>], [u'137', u'14:31', u'15:18', u'0:47', u'https://irs.thsrc.com.tw/IMINT/resources/tw.com.mitac.webapp.thsr.viewer.panel.LightLoadedTrainQueryDataViewPanel/irs_ind_eb2_zh_TW.gif', <selenium.webdriver.remote.webelement.WebElement (session=\"a4f4e891d2d97216344d760a12111b3f\", element=\"0.7386164939581004-28\")>], [u'651', u'14:46', u'15:46', u'1:00', u'https://irs.thsrc.com.tw/IMINT/resources/tw.com.mitac.webapp.thsr.viewer.panel.LightLoadedTrainQueryDataViewPanel/irs_ind_eb2_zh_TW.gif', <selenium.webdriver.remote.webelement.WebElement (session=\"a4f4e891d2d97216344d760a12111b3f\", element=\"0.7386164939581004-30\")>], [u'837', u'15:11', u'16:15', u'1:04', u'https://irs.thsrc.com.tw/IMINT/resources/tw.com.mitac.webapp.thsr.viewer.panel.LightLoadedTrainQueryDataViewPanel/irs_ind_ebH_zh_TW.gif', <selenium.webdriver.remote.webelement.WebElement (session=\"a4f4e891d2d97216344d760a12111b3f\", element=\"0.7386164939581004-32\")>], [u'141', u'15:31', u'16:18', u'0:47', u'https://irs.thsrc.com.tw/IMINT/resources/tw.com.mitac.webapp.thsr.viewer.panel.LightLoadedTrainQueryDataViewPanel/irs_ind_eb2_zh_TW.gif', <selenium.webdriver.remote.webelement.WebElement (session=\"a4f4e891d2d97216344d760a12111b3f\", element=\"0.7386164939581004-34\")>], [u'657', u'15:46', u'16:46', u'1:00', <selenium.webdriver.remote.webelement.WebElement (session=\"a4f4e891d2d97216344d760a12111b3f\", element=\"0.7386164939581004-35\")>]]\n"
     ]
    }
   ],
   "source": [
    "trains = []\n",
    "for field in opener.find_elements_by_xpath(\"//tr\"):\n",
    "    if field.get_attribute(\"onMouseOver\"):\n",
    "        trains.append(field.text.split())\n",
    "        \n",
    "    for img_field in field.find_elements_by_tag_name(\"img\"):\n",
    "        trains[-1].append(img_field.get_attribute(\"src\"))\n",
    "        \n",
    "    \n",
    "    for radio_field in field.find_elements_by_name(\"TrainQueryDataViewPanel:TrainGroup\"):\n",
    "        trains[-1].append(radio_field)\n",
    "        \n",
    "print trains"
   ]
  },
  {
   "cell_type": "code",
   "execution_count": 224,
   "metadata": {
    "collapsed": false,
    "deletable": true,
    "editable": true
   },
   "outputs": [],
   "source": [
    "trains[5][-1].click()\n",
    "\n",
    "opener.find_element_by_name(\"SubmitButton\").click()"
   ]
  },
  {
   "cell_type": "code",
   "execution_count": 216,
   "metadata": {
    "collapsed": false,
    "deletable": true,
    "editable": true
   },
   "outputs": [
    {
     "name": "stdout",
     "output_type": "stream",
     "text": [
      "行程 日期 車次 起程站 到達站 出發時間 到達時間 全票 敬老、孩童、愛心 小計\n",
      "去程 03/01 837 台北 台中 15:11 16:15 560*2 350*2 TWD 1,820\n",
      "車廂：標準車廂 票數：全票 2 張 | 孩童票 2 張  總票價 TWD 1,820\n"
     ]
    }
   ],
   "source": [
    "if opener.current_url == \"https://irs.thsrc.com.tw/IMINT/?wicket:interface=:2::\":\n",
    "    ticket_info = opener.find_element_by_xpath(\"//table[@class='table_simple']\")\n",
    "    print ticket_info.text\n",
    "    \n",
    "    opener.find_element_by_id(\"idNumber\").send_keys(\"L122760167\")\n",
    "    \n",
    "    opener.find_element_by_id(\"mobileInputRadio\").click()\n",
    "    opener.find_element_by_id(\"mobilePhone\").send_keys(\"0921747196\")\n",
    "    \n",
    "    opener.find_element_by_name(\"agree\").click()\n",
    "    opener.find_element_by_id(\"isSubmit\").click()"
   ]
  }
 ],
 "metadata": {
  "kernelspec": {
   "display_name": "Python 2",
   "language": "python",
   "name": "python2"
  },
  "language_info": {
   "codemirror_mode": {
    "name": "ipython",
    "version": 2
   },
   "file_extension": ".py",
   "mimetype": "text/x-python",
   "name": "python",
   "nbconvert_exporter": "python",
   "pygments_lexer": "ipython2",
   "version": "2.7.12"
  }
 },
 "nbformat": 4,
 "nbformat_minor": 2
}
